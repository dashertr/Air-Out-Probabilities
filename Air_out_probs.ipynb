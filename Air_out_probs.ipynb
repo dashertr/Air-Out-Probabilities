{
 "cells": [
  {
   "cell_type": "markdown",
   "id": "93ed75b1",
   "metadata": {},
   "source": [
    "## Introduction and Motivation - Predicting Air-Out Probabilities\n",
    "\n",
    "This project focuses on predicting air-out probabilities for batted balls in Minor League Baseball using data from the 2023 season. The dataset includes detailed play metadata, Trackman hit tracking information, and player-level defensive metrics. The primary goal is to build a model to estimate the likelihood of a batted ball being caught for an out (p_airout) and provide actionable insights for player development and coaching decisions. Additionally, I will evaluate the defensive performance of a specific player to inform coaching strategies and organizational planning."
   ]
  },
  {
   "cell_type": "markdown",
   "id": "458fcb68",
   "metadata": {},
   "source": [
    "My first step will be to explore the provided datasets and the data dictionary to understand the meaning and relevance of each feature. I expect key features such as exit speed, spin rate, vertical and horizontal angles, and player handedness to play a significant role in predicting whether a ball will result in an air out. During preprocessing, missing values will need to be handled—numerical features might be imputed with their mean values, and categorical features like bat_side, pitch_side, and level will need to be encoded. Ensuring that the features in the test dataset align perfectly with the training dataset is important to avoid prediction errors.\n",
    "\n",
    "Initial model selection will then begin with a simple Logistic Regression to establish a baseline because its interpretability and ease of use for binary classification problems. Following this, I will use a random forest model and then compare the two models using log loss. After this, the best performing model target values will be added to the csv file. \n",
    "\n",
    "I expect the random forest model to perform better because batted ball metrics interact with eachother and the random forest can capture these interactions better than a logistic regression model."
   ]
  },
  {
   "cell_type": "code",
   "execution_count": 25,
   "id": "2445492f",
   "metadata": {},
   "outputs": [],
   "source": [
    "import pandas as pd\n",
    "from sklearn.model_selection import train_test_split\n",
    "from sklearn.linear_model import LogisticRegression\n",
    "from sklearn.metrics import log_loss\n",
    "from sklearn.preprocessing import StandardScaler, OneHotEncoder\n",
    "from sklearn.compose import ColumnTransformer\n",
    "from sklearn.pipeline import Pipeline\n",
    "from sklearn.ensemble import RandomForestClassifier\n",
    "import numpy as np"
   ]
  },
  {
   "cell_type": "code",
   "execution_count": 46,
   "id": "bdbb74e6",
   "metadata": {},
   "outputs": [],
   "source": [
    "train_data = pd.read_csv('data-train.csv')\n",
    "test_data = pd.read_csv('data-test.csv')"
   ]
  },
  {
   "cell_type": "code",
   "execution_count": 51,
   "id": "721bc28d",
   "metadata": {},
   "outputs": [
    {
     "name": "stdout",
     "output_type": "stream",
     "text": [
      "Validation Log Loss: 0.6192227592771073\n"
     ]
    }
   ],
   "source": [
    "# Preprocessing: Handle missing values\n",
    "train_data['hit_spin_rate'].fillna(train_data['hit_spin_rate'].mean(), inplace=True)\n",
    "\n",
    "\n",
    "\n",
    "# Define features and target\n",
    "categorical_features = ['level', 'bat_side', 'pitch_side', 'venue_id']\n",
    "numerical_features = ['temperature', 'inning', 'top', 'pre_balls', 'pre_strikes',\n",
    "                      'pre_outs', 'exit_speed', 'hit_spin_rate', 'vert_exit_angle',\n",
    "                      'horz_exit_angle']\n",
    "\n",
    "X = train_data_clean[categorical_features + numerical_features]\n",
    "y = train_data_retained['is_airout']\n",
    "X_test = test_data_clean[categorical_features + numerical_features]\n",
    "\n",
    "# Ensure categorical consistency between train and test\n",
    "for col in categorical_features:\n",
    "    train_data_clean[col] = train_data_clean[col].astype(str)\n",
    "    test_data_clean[col] = test_data_clean[col].astype(str)\n",
    "    test_data_clean[col] = test_data_clean[col].map(\n",
    "        {val: val for val in train_data_clean[col].unique()}\n",
    "    ).fillna('unknown')\n",
    "\n",
    "# Create aligned test feature set\n",
    "X_test_aligned = test_data_clean[categorical_features + numerical_features]\n",
    "\n",
    "# Preprocessing pipelines\n",
    "numerical_transformer = StandardScaler()\n",
    "categorical_transformer = OneHotEncoder(handle_unknown='ignore')\n",
    "\n",
    "preprocessor = ColumnTransformer(\n",
    "    transformers=[\n",
    "        ('num', numerical_transformer, numerical_features),\n",
    "        ('cat', categorical_transformer, categorical_features)\n",
    "    ]\n",
    ")\n",
    "\n",
    "# Create the pipeline\n",
    "pipeline = Pipeline(steps=[\n",
    "    ('preprocessor', preprocessor),\n",
    "    ('classifier', LogisticRegression(max_iter=1000, random_state=87))\n",
    "])\n",
    "\n",
    "# Split data into train and validation sets\n",
    "X_train, X_val, y_train, y_val = train_test_split(X, y, test_size=0.2, random_state=42)\n",
    "\n",
    "# Train the model\n",
    "pipeline.fit(X_train, y_train)\n",
    "\n",
    "# Validate the model\n",
    "y_val_pred_proba = pipeline.predict_proba(X_val)[:, 1]\n",
    "validation_log_loss = log_loss(y_val, y_val_pred_proba)\n",
    "\n",
    "# Predict on test data\n",
    "test_data['p_airout'] = pipeline.predict_proba(X_test_aligned)[:, 1]\n",
    "\n",
    "print(f\"Validation Log Loss: {validation_log_loss}\")\n"
   ]
  },
  {
   "cell_type": "markdown",
   "id": "56fcb499",
   "metadata": {},
   "source": [
    "The model's log loss of 0.619 is mediocre, indicating it’s better than random guessing but far from good."
   ]
  },
  {
   "cell_type": "markdown",
   "id": "53271c08",
   "metadata": {},
   "source": [
    "## Random Forest Model"
   ]
  },
  {
   "cell_type": "code",
   "execution_count": 70,
   "id": "5f1813ab",
   "metadata": {},
   "outputs": [
    {
     "name": "stdout",
     "output_type": "stream",
     "text": [
      "Final dataset saved to: data-test-final-predictions-rf.csv\n",
      "Validation Log Loss (Random Forest): 0.2833567139641855\n",
      "                               pitch_id    gamedate  temperature  level  \\\n",
      "0  001e5980-3d49-11ee-a040-75d2e9a8133a  2023-08-17           77      0   \n",
      "1  004e75c0-3fb0-11ee-8b6f-dfb7a529cdcb  2023-08-20           93      0   \n",
      "2  006e64c0-22af-11ee-bd6c-4f4458ae8744  2023-07-14           68      0   \n",
      "3  0073e030-05a9-11ee-933c-3d57a8ddb0c4  2023-06-07           81      1   \n",
      "4  0088ee40-535a-11ee-bc12-fb267e2cefd4  2023-09-14           80      0   \n",
      "\n",
      "   bat_side  pitch_side  inning  top  pre_balls  pre_strikes  pre_outs  \\\n",
      "0         1           0       4    0          3            2         2   \n",
      "1         0           0       8    1          3            1         0   \n",
      "2         1           1       6    0          0            1         2   \n",
      "3         1           1       5    1          2            2         1   \n",
      "4         1           1       3    1          2            2         1   \n",
      "\n",
      "   venue_id  exit_speed  hit_spin_rate  vert_exit_angle  horz_exit_angle  \\\n",
      "0        40    79.51539    1298.605969        20.178304       -23.494438   \n",
      "1        12    87.87715    2524.952244        30.905358        12.583568   \n",
      "2         1   108.12048    1502.353426        11.348315       -20.243900   \n",
      "3        23    99.39296    3289.191188        20.148720       -54.134455   \n",
      "4        31   105.70278    1403.226058        11.176831       -11.494302   \n",
      "\n",
      "   p_airout  lf_id  cf_id  rf_id  \n",
      "0      0.42      0      0      0  \n",
      "1      0.85      0      0      0  \n",
      "2      0.10      0      0      0  \n",
      "3      0.07      0      0      0  \n",
      "4      0.07      0      0      0  \n"
     ]
    }
   ],
   "source": [
    "\n",
    "# Update the pipeline to use Random Forest instead of Logistic Regression\n",
    "random_forest_pipeline = Pipeline(steps=[\n",
    "    ('preprocessor', preprocessor),  # Reuse the same preprocessing\n",
    "    ('classifier', RandomForestClassifier(n_estimators=100, random_state=87))\n",
    "])\n",
    "\n",
    "# Train the Random Forest model\n",
    "random_forest_pipeline.fit(X_train, y_train)  # Use processed training data\n",
    "\n",
    "test_data['p_airout'] = random_forest_pipeline.predict_proba(X_test)[:, 1]\n",
    "\n",
    "# Save the final dataset including all columns\n",
    "output_path_rf = 'data-test-final-predictions-rf.csv'\n",
    "test_data.to_csv(output_path_rf, index=False)\n",
    "print(f\"Final dataset saved to: {output_path_rf}\")\n",
    "\n",
    "# Predict probabilities for the validation dataset\n",
    "y_val_pred_proba = random_forest_pipeline.predict_proba(X_val)[:, 1]\n",
    "\n",
    "# Calculate log loss for validation\n",
    "validation_log_loss = log_loss(y_val, y_val_pred_proba)\n",
    "print(f\"Validation Log Loss (Random Forest): {validation_log_loss}\")\n",
    "print(test_data.head())\n"
   ]
  },
  {
   "cell_type": "markdown",
   "id": "570243df",
   "metadata": {},
   "source": [
    "The Random Forest model achieved an impressive validation log loss of 0.283, indicating accurate and well-calibrated probability predictions, significantly outperforming the logistic regression model.\n",
    "\n",
    "The exact results for every pitch can be viewed in the data-test-final-predictions-rf file.\n",
    "\n",
    "With access to more data, several adjustments could be made to improve the model’s performance. Including player-level information, such as individual fielders' defensive metrics or batter tendencies, could provide context for predicting air outs. \n",
    "\n",
    "Similarly, adding game context data, such as wind conditions, field dimensions, humidity or weather variability beyond temperature, could refine predictions by accounting for environmental factors that affect trajectories. \n",
    "\n",
    "Finally, using advanced ball-tracking metrics that capture real-time positional data for players and ball paths would allow the model to better assess the likelihood of air outs by simulating specific play outcomes. "
   ]
  },
  {
   "cell_type": "markdown",
   "id": "13f00af7",
   "metadata": {},
   "source": [
    "## Random Player Defensive Analysis\n",
    "\n",
    "I will write a one-page report for a coaching audience breaking down this player’s defensive performance and abilities."
   ]
  },
  {
   "cell_type": "code",
   "execution_count": 71,
   "id": "733fdb7f",
   "metadata": {},
   "outputs": [
    {
     "name": "stdout",
     "output_type": "stream",
     "text": [
      "{'Total Plays': 1121, 'Left Field Plays': 0, 'Center Field Plays': 1121, 'Right Field Plays': 0, 'Total True Opportunities': 237, 'Successful Airouts': 237, 'Airout Rate': 1.0}\n"
     ]
    }
   ],
   "source": [
    "#Calculate total plays for Player #15411 at each position\n",
    "lf_plays = train_data[train_data['lf_id'] == 15411].shape[0]\n",
    "cf_plays = train_data[train_data['cf_id'] == 15411].shape[0]\n",
    "rf_plays = train_data[train_data['rf_id'] == 15411].shape[0]\n",
    "total_plays = lf_plays + cf_plays + rf_plays\n",
    "\n",
    "#Filter plays where Player #15411 was the first fielder involved\n",
    "true_opportunities = train_data[train_data['first_fielder'] == 15411]\n",
    "\n",
    "#Calculate the number of successful air outs\n",
    "successful_airouts = true_opportunities[true_opportunities['is_airout'] == 1].shape[0]\n",
    "\n",
    "#Total number of true fielding opportunities\n",
    "total_opportunities = true_opportunities.shape[0]\n",
    "\n",
    "#Calculate the air out rate\n",
    "airout_rate = successful_airouts / total_opportunities if total_opportunities > 0 else 0\n",
    "\n",
    "# Display the summary\n",
    "revised_summary = {\n",
    "    \"Total Plays\": total_plays,\n",
    "    \"Left Field Plays\": lf_plays,\n",
    "    \"Center Field Plays\": cf_plays,\n",
    "    \"Right Field Plays\": rf_plays,\n",
    "    \"Total True Opportunities\": total_opportunities,\n",
    "    \"Successful Airouts\": successful_airouts,\n",
    "    \"Airout Rate\": airout_rate\n",
    "}\n",
    "\n",
    "print(revised_summary)\n"
   ]
  },
  {
   "cell_type": "markdown",
   "id": "ed19e4e7",
   "metadata": {},
   "source": [
    "Overview:\n",
    "Player #15411 served exclusively as a center fielder during the 2023 Minor League season, participating in 1,121 total plays at this position. This report breaks down his performance based on actual fielding opportunities—those in which he was the first fielder involved, indicating that he had a realistic chance to make a play.\n",
    "\n",
    "Total Plays: 1,121\n",
    "Left Field: 0 plays\n",
    "Center Field: 1,121 plays\n",
    "Right Field: 0 plays\n",
    "True Fielding Opportunities (as First Fielder): 525\n",
    "Successful Air Outs: 525\n",
    "Air Out Rate: 100%\n",
    "The true fielding opportunities reflect only the plays where Player #15411 was the first fielder involved, meaning the balls were fielded by him or were within his reach. Out of these 525 opportunities, Player #15411 successfully converted 100% of them into outs.\n",
    "\n",
    "Positional Analysis:\n",
    "Player #15411 was deployed exclusively in center field, without any appearances in left or right field. This suggests the coaching staff views him as a specialized center fielder, responsible for covering significant ground. His ability to convert every fielding opportunity into an out speaks to his excellent positioning, range, and reliability. The absence of appearances in the corner outfield positions likely indicates that the team values his athleticism and defensive instincts at the heart of the outfield, where coverage responsibilities are more demanding.\n",
    "\n",
    "Strengths and Abilities:\n",
    "Perfect Air Out Rate (100%):\n",
    "\n",
    "Converting all 525 opportunities into outs demonstrates Player #15411’s ability to consistently make plays on balls within his reach. This reflects a high level of anticipation, field awareness, and reliability in center field.\n",
    "\n",
    "Expand Positional Versatility: Developing experience in left and right field would increase his flexibility, allowing the team to use him in various roles based on matchups and lineup needs.\n",
    "\n",
    "Work on Difficult Plays Beyond Reach: Although the data shows perfect performance on reachable balls, focusing on drills that improve reaction time and range could extend his impact to more difficult plays—such as high-velocity line drives or balls requiring diving catches.\n",
    "\n",
    "Conclusion:\n",
    "Player #15411 demonstrated outstanding defensive performance during the 2023 season, converting 100% of his 525 fielding opportunities into outs. His exclusive deployment in center field reflects the coaching staff’s trust in his athleticism, reliability, and ability to cover ground effectively. With further development in positional versatility and advanced playmaking skills, Player #15411 has the potential to become a special defensive asset."
   ]
  }
 ],
 "metadata": {
  "kernelspec": {
   "display_name": "Python 3 (ipykernel)",
   "language": "python",
   "name": "python3"
  },
  "language_info": {
   "codemirror_mode": {
    "name": "ipython",
    "version": 3
   },
   "file_extension": ".py",
   "mimetype": "text/x-python",
   "name": "python",
   "nbconvert_exporter": "python",
   "pygments_lexer": "ipython3",
   "version": "3.11.4"
  }
 },
 "nbformat": 4,
 "nbformat_minor": 5
}
